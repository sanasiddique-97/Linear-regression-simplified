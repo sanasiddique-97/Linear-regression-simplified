{
 "cells": [
  {
   "cell_type": "code",
   "execution_count": 11,
   "id": "6dc66311",
   "metadata": {},
   "outputs": [],
   "source": [
    "import re"
   ]
  },
  {
   "cell_type": "code",
   "execution_count": 17,
   "id": "ac2fa502",
   "metadata": {},
   "outputs": [
    {
     "name": "stdout",
     "output_type": "stream",
     "text": [
      "The string does not contain the character 'y'\n"
     ]
    }
   ],
   "source": [
    "#Match a single character\n",
    "\n",
    "pattern = r'y'\n",
    "\n",
    "if re.search(pattern, 'Aisha'):\n",
    "    print(\"The string contains the character 'y'\")\n",
    "else:\n",
    "    print(\"The string does not contain the character 'y'\")\n"
   ]
  },
  {
   "cell_type": "code",
   "execution_count": 21,
   "id": "a0ff622d",
   "metadata": {},
   "outputs": [],
   "source": [
    "name = \"sana\""
   ]
  },
  {
   "cell_type": "code",
   "execution_count": 22,
   "id": "15b40cbf",
   "metadata": {},
   "outputs": [
    {
     "name": "stdout",
     "output_type": "stream",
     "text": [
      "The string contains any character\n"
     ]
    }
   ],
   "source": [
    "#Match any character:\n",
    "\n",
    "pattern = r'.'\n",
    "\n",
    "if re.search(pattern, 'abc'):\n",
    "    print(\"The string contains any character\")\n",
    "else:\n",
    "    print(\"The string does not contain any character\")\n"
   ]
  },
  {
   "cell_type": "code",
   "execution_count": 25,
   "id": "cb3e9e70",
   "metadata": {},
   "outputs": [
    {
     "name": "stdout",
     "output_type": "stream",
     "text": [
      "The string does not contain a lowercase letter\n"
     ]
    }
   ],
   "source": [
    "#Match a range of characters:\n",
    "\n",
    "\n",
    "pattern = r'[a-z]'\n",
    "\n",
    "if re.search(pattern, 'YIGJUJ'):\n",
    "    print(\"The string contains a lowercase letter\")\n",
    "else:\n",
    "    print(\"The string does not contain a lowercase letter\")\n"
   ]
  },
  {
   "cell_type": "code",
   "execution_count": 27,
   "id": "1fc4b7ae",
   "metadata": {},
   "outputs": [
    {
     "name": "stdout",
     "output_type": "stream",
     "text": [
      "The string contains the sequence 'ab'\n"
     ]
    }
   ],
   "source": [
    "#Match a sequence of characters\n",
    "\n",
    "pattern = r'Ab'\n",
    "\n",
    "if re.search(pattern, 'this fed utility has zero ammount'):\n",
    "    print(\"The string contains the sequence 'utility'\")\n",
    "else:\n",
    "    print(\"The string does not contain the sequence 'utility'\")"
   ]
  },
  {
   "cell_type": "code",
   "execution_count": 29,
   "id": "e0ebdcf6",
   "metadata": {},
   "outputs": [
    {
     "name": "stdout",
     "output_type": "stream",
     "text": [
      "The string does not start with 'Hello'\n"
     ]
    }
   ],
   "source": [
    "#Match a string at the beginning of the line:\n",
    "    \n",
    "pattern = r'^hello'\n",
    "\n",
    "if re.search(pattern, 'Hello World'):\n",
    "    print(\"The string starts with 'Hello'\")\n",
    "else:\n",
    "    print(\"The string does not start with 'Hello'\")"
   ]
  },
  {
   "cell_type": "code",
   "execution_count": 30,
   "id": "9ed24d84",
   "metadata": {},
   "outputs": [
    {
     "name": "stdout",
     "output_type": "stream",
     "text": [
      "The string ends with 'World'\n"
     ]
    }
   ],
   "source": [
    "#Match a string at the end of the line\n",
    "\n",
    "\n",
    "pattern = r'World$'\n",
    "\n",
    "if re.search(pattern, 'Hello World'):\n",
    "    print(\"The string ends with 'World'\")\n",
    "else:\n",
    "    print(\"The string does not end with 'World'\")"
   ]
  },
  {
   "cell_type": "code",
   "execution_count": 31,
   "id": "cebd72d3",
   "metadata": {},
   "outputs": [
    {
     "name": "stdout",
     "output_type": "stream",
     "text": [
      "The string contains the word 'word'\n"
     ]
    }
   ],
   "source": [
    "#Match a string that contains a word\n",
    "\n",
    "\n",
    "pattern = r'\\bword\\b'\n",
    "\n",
    "if re.search(pattern, 'This is a word'):\n",
    "    print(\"The string contains the word 'word'\")\n",
    "else:\n",
    "    print(\"The string does not contain the word 'word'\")"
   ]
  },
  {
   "cell_type": "code",
   "execution_count": 32,
   "id": "c9475633",
   "metadata": {},
   "outputs": [
    {
     "ename": "SyntaxError",
     "evalue": "invalid syntax (1878222428.py, line 1)",
     "output_type": "error",
     "traceback": [
      "\u001b[1;36m  Input \u001b[1;32mIn [32]\u001b[1;36m\u001b[0m\n\u001b[1;33m    Match a string that contains a number\u001b[0m\n\u001b[1;37m          ^\u001b[0m\n\u001b[1;31mSyntaxError\u001b[0m\u001b[1;31m:\u001b[0m invalid syntax\n"
     ]
    }
   ],
   "source": [
    "Match a string that contains a number\n",
    "\n",
    "pattern = r'\\d+'\n",
    "\n",
    "if re.search(pattern, '12345'):\n",
    "    print(\"The string contains a number\")\n",
    "else:\n",
    "    print(\"The string does not contain a number\")"
   ]
  },
  {
   "cell_type": "code",
   "execution_count": 35,
   "id": "a8316032",
   "metadata": {},
   "outputs": [
    {
     "name": "stdout",
     "output_type": "stream",
     "text": [
      "The string contains an email address\n"
     ]
    }
   ],
   "source": [
    "#Match a string that contains an email address:\n",
    "    \n",
    "    \n",
    "pattern = r'@'\n",
    "\n",
    "if re.search(pattern, 'johndoe@gmail.com'):\n",
    "    print(\"The string contains an email address\")\n",
    "else:\n",
    "    print(\"The string does not contain an email address\")"
   ]
  },
  {
   "cell_type": "code",
   "execution_count": null,
   "id": "7672a9bb",
   "metadata": {},
   "outputs": [],
   "source": [
    "Match a string that contains a URL:\n",
    "    \n",
    "    \n",
    "pattern = r'https?://\\w+\\.\\w+'\n",
    "\n",
    "if re.search(pattern, 'https://www.google.com'):\n",
    "    print(\"The string contains a URL\")\n",
    "else:\n",
    "    print(\"The string does not contain a URL\")"
   ]
  },
  {
   "cell_type": "code",
   "execution_count": 36,
   "id": "ccb06412",
   "metadata": {},
   "outputs": [],
   "source": [
    "\n",
    "txt = \"The rain in Spain\"\n",
    "x = re.search(\"^The.*Spain$\", txt)"
   ]
  },
  {
   "cell_type": "code",
   "execution_count": 37,
   "id": "2d5b1fb8",
   "metadata": {},
   "outputs": [
    {
     "data": {
      "text/plain": [
       "<re.Match object; span=(0, 17), match='The rain in Spain'>"
      ]
     },
     "execution_count": 37,
     "metadata": {},
     "output_type": "execute_result"
    }
   ],
   "source": [
    "x"
   ]
  },
  {
   "cell_type": "code",
   "execution_count": 39,
   "id": "6bbc2aaa",
   "metadata": {},
   "outputs": [
    {
     "name": "stdout",
     "output_type": "stream",
     "text": [
      "['ai', 'ai']\n"
     ]
    }
   ],
   "source": [
    "txt = \"The rain in Spain\"\n",
    "x = re.findall(\"ai\", txt)\n",
    "print(x)"
   ]
  },
  {
   "cell_type": "code",
   "execution_count": 1,
   "id": "1cbcc25f",
   "metadata": {},
   "outputs": [
    {
     "name": "stderr",
     "output_type": "stream",
     "text": [
      "C:\\Users\\Yousuf Traders\\anaconda3\\lib\\site-packages\\numpy\\_distributor_init.py:30: UserWarning: loaded more than 1 DLL from .libs:\n",
      "C:\\Users\\Yousuf Traders\\anaconda3\\lib\\site-packages\\numpy\\.libs\\libopenblas.EL2C6PLE4ZYW3ECEVIV3OXXGRN2NRFM2.gfortran-win_amd64.dll\n",
      "C:\\Users\\Yousuf Traders\\anaconda3\\lib\\site-packages\\numpy\\.libs\\libopenblas.XWYDX2IKJW2NMTWSFYNGFUWKQU3LYTCZ.gfortran-win_amd64.dll\n",
      "  warnings.warn(\"loaded more than 1 DLL from .libs:\"\n"
     ]
    },
    {
     "data": {
      "text/html": [
       "<div>\n",
       "<style scoped>\n",
       "    .dataframe tbody tr th:only-of-type {\n",
       "        vertical-align: middle;\n",
       "    }\n",
       "\n",
       "    .dataframe tbody tr th {\n",
       "        vertical-align: top;\n",
       "    }\n",
       "\n",
       "    .dataframe thead th {\n",
       "        text-align: right;\n",
       "    }\n",
       "</style>\n",
       "<table border=\"1\" class=\"dataframe\">\n",
       "  <thead>\n",
       "    <tr style=\"text-align: right;\">\n",
       "      <th></th>\n",
       "      <th>Function</th>\n",
       "      <th>Description</th>\n",
       "    </tr>\n",
       "  </thead>\n",
       "  <tbody>\n",
       "    <tr>\n",
       "      <th>0</th>\n",
       "      <td>findall</td>\n",
       "      <td>Returns a list containing all matches</td>\n",
       "    </tr>\n",
       "    <tr>\n",
       "      <th>1</th>\n",
       "      <td>search</td>\n",
       "      <td>Returns a Match object if there is a match any...</td>\n",
       "    </tr>\n",
       "    <tr>\n",
       "      <th>2</th>\n",
       "      <td>split</td>\n",
       "      <td>Returns a list where the string has been split...</td>\n",
       "    </tr>\n",
       "    <tr>\n",
       "      <th>3</th>\n",
       "      <td>sub</td>\n",
       "      <td>Replaces one or many matches with a string</td>\n",
       "    </tr>\n",
       "  </tbody>\n",
       "</table>\n",
       "</div>"
      ],
      "text/plain": [
       "  Function                                        Description\n",
       "0  findall              Returns a list containing all matches\n",
       "1   search  Returns a Match object if there is a match any...\n",
       "2    split  Returns a list where the string has been split...\n",
       "3      sub         Replaces one or many matches with a string"
      ]
     },
     "execution_count": 1,
     "metadata": {},
     "output_type": "execute_result"
    }
   ],
   "source": [
    "import pandas as pd\n",
    "\n",
    "df = pd.read_html(\"https://www.w3schools.com/python/python_regex.asp\")\n",
    "df[0]"
   ]
  },
  {
   "cell_type": "code",
   "execution_count": 2,
   "id": "0c9e249a",
   "metadata": {},
   "outputs": [
    {
     "data": {
      "text/html": [
       "<div>\n",
       "<style scoped>\n",
       "    .dataframe tbody tr th:only-of-type {\n",
       "        vertical-align: middle;\n",
       "    }\n",
       "\n",
       "    .dataframe tbody tr th {\n",
       "        vertical-align: top;\n",
       "    }\n",
       "\n",
       "    .dataframe thead th {\n",
       "        text-align: right;\n",
       "    }\n",
       "</style>\n",
       "<table border=\"1\" class=\"dataframe\">\n",
       "  <thead>\n",
       "    <tr style=\"text-align: right;\">\n",
       "      <th></th>\n",
       "      <th>Character</th>\n",
       "      <th>Description</th>\n",
       "      <th>Example</th>\n",
       "      <th>Try it</th>\n",
       "    </tr>\n",
       "  </thead>\n",
       "  <tbody>\n",
       "    <tr>\n",
       "      <th>0</th>\n",
       "      <td>[]</td>\n",
       "      <td>A set of characters</td>\n",
       "      <td>\"[a-m]\"</td>\n",
       "      <td>Try it »</td>\n",
       "    </tr>\n",
       "    <tr>\n",
       "      <th>1</th>\n",
       "      <td>\\</td>\n",
       "      <td>Signals a special sequence (can also be used t...</td>\n",
       "      <td>\"\\d\"</td>\n",
       "      <td>Try it »</td>\n",
       "    </tr>\n",
       "    <tr>\n",
       "      <th>2</th>\n",
       "      <td>.</td>\n",
       "      <td>Any character (except newline character)</td>\n",
       "      <td>\"he..o\"</td>\n",
       "      <td>Try it »</td>\n",
       "    </tr>\n",
       "    <tr>\n",
       "      <th>3</th>\n",
       "      <td>^</td>\n",
       "      <td>Starts with</td>\n",
       "      <td>\"^hello\"</td>\n",
       "      <td>Try it »</td>\n",
       "    </tr>\n",
       "    <tr>\n",
       "      <th>4</th>\n",
       "      <td>$</td>\n",
       "      <td>Ends with</td>\n",
       "      <td>\"planet$\"</td>\n",
       "      <td>Try it »</td>\n",
       "    </tr>\n",
       "    <tr>\n",
       "      <th>5</th>\n",
       "      <td>*</td>\n",
       "      <td>Zero or more occurrences</td>\n",
       "      <td>\"he.*o\"</td>\n",
       "      <td>Try it »</td>\n",
       "    </tr>\n",
       "    <tr>\n",
       "      <th>6</th>\n",
       "      <td>+</td>\n",
       "      <td>One or more occurrences</td>\n",
       "      <td>\"he.+o\"</td>\n",
       "      <td>Try it »</td>\n",
       "    </tr>\n",
       "    <tr>\n",
       "      <th>7</th>\n",
       "      <td>?</td>\n",
       "      <td>Zero or one occurrences</td>\n",
       "      <td>\"he.?o\"</td>\n",
       "      <td>Try it »</td>\n",
       "    </tr>\n",
       "    <tr>\n",
       "      <th>8</th>\n",
       "      <td>{}</td>\n",
       "      <td>Exactly the specified number of occurrences</td>\n",
       "      <td>\"he.{2}o\"</td>\n",
       "      <td>Try it »</td>\n",
       "    </tr>\n",
       "    <tr>\n",
       "      <th>9</th>\n",
       "      <td>|</td>\n",
       "      <td>Either or</td>\n",
       "      <td>\"falls|stays\"</td>\n",
       "      <td>Try it »</td>\n",
       "    </tr>\n",
       "    <tr>\n",
       "      <th>10</th>\n",
       "      <td>()</td>\n",
       "      <td>Capture and group</td>\n",
       "      <td>NaN</td>\n",
       "      <td>NaN</td>\n",
       "    </tr>\n",
       "  </tbody>\n",
       "</table>\n",
       "</div>"
      ],
      "text/plain": [
       "   Character                                        Description  \\\n",
       "0         []                                A set of characters   \n",
       "1          \\  Signals a special sequence (can also be used t...   \n",
       "2          .           Any character (except newline character)   \n",
       "3          ^                                        Starts with   \n",
       "4          $                                          Ends with   \n",
       "5          *                           Zero or more occurrences   \n",
       "6          +                            One or more occurrences   \n",
       "7          ?                            Zero or one occurrences   \n",
       "8         {}        Exactly the specified number of occurrences   \n",
       "9          |                                          Either or   \n",
       "10        ()                                  Capture and group   \n",
       "\n",
       "          Example    Try it  \n",
       "0         \"[a-m]\"  Try it »  \n",
       "1            \"\\d\"  Try it »  \n",
       "2         \"he..o\"  Try it »  \n",
       "3        \"^hello\"  Try it »  \n",
       "4       \"planet$\"  Try it »  \n",
       "5         \"he.*o\"  Try it »  \n",
       "6         \"he.+o\"  Try it »  \n",
       "7         \"he.?o\"  Try it »  \n",
       "8       \"he.{2}o\"  Try it »  \n",
       "9   \"falls|stays\"  Try it »  \n",
       "10            NaN       NaN  "
      ]
     },
     "execution_count": 2,
     "metadata": {},
     "output_type": "execute_result"
    }
   ],
   "source": [
    "df[1]"
   ]
  },
  {
   "cell_type": "code",
   "execution_count": 3,
   "id": "733a02fd",
   "metadata": {},
   "outputs": [
    {
     "data": {
      "text/html": [
       "<div>\n",
       "<style scoped>\n",
       "    .dataframe tbody tr th:only-of-type {\n",
       "        vertical-align: middle;\n",
       "    }\n",
       "\n",
       "    .dataframe tbody tr th {\n",
       "        vertical-align: top;\n",
       "    }\n",
       "\n",
       "    .dataframe thead th {\n",
       "        text-align: right;\n",
       "    }\n",
       "</style>\n",
       "<table border=\"1\" class=\"dataframe\">\n",
       "  <thead>\n",
       "    <tr style=\"text-align: right;\">\n",
       "      <th></th>\n",
       "      <th>Character</th>\n",
       "      <th>Description</th>\n",
       "      <th>Example</th>\n",
       "      <th>Try it</th>\n",
       "    </tr>\n",
       "  </thead>\n",
       "  <tbody>\n",
       "    <tr>\n",
       "      <th>0</th>\n",
       "      <td>\\A</td>\n",
       "      <td>Returns a match if the specified characters ar...</td>\n",
       "      <td>\"\\AThe\"</td>\n",
       "      <td>Try it »</td>\n",
       "    </tr>\n",
       "    <tr>\n",
       "      <th>1</th>\n",
       "      <td>\\b</td>\n",
       "      <td>Returns a match where the specified characters...</td>\n",
       "      <td>r\"\\bain\"r\"ain\\b\"</td>\n",
       "      <td>Try it » Try it »</td>\n",
       "    </tr>\n",
       "    <tr>\n",
       "      <th>2</th>\n",
       "      <td>\\B</td>\n",
       "      <td>Returns a match where the specified characters...</td>\n",
       "      <td>r\"\\Bain\"r\"ain\\B\"</td>\n",
       "      <td>Try it » Try it »</td>\n",
       "    </tr>\n",
       "    <tr>\n",
       "      <th>3</th>\n",
       "      <td>\\d</td>\n",
       "      <td>Returns a match where the string contains digi...</td>\n",
       "      <td>\"\\d\"</td>\n",
       "      <td>Try it »</td>\n",
       "    </tr>\n",
       "    <tr>\n",
       "      <th>4</th>\n",
       "      <td>\\D</td>\n",
       "      <td>Returns a match where the string DOES NOT cont...</td>\n",
       "      <td>\"\\D\"</td>\n",
       "      <td>Try it »</td>\n",
       "    </tr>\n",
       "    <tr>\n",
       "      <th>5</th>\n",
       "      <td>\\s</td>\n",
       "      <td>Returns a match where the string contains a wh...</td>\n",
       "      <td>\"\\s\"</td>\n",
       "      <td>Try it »</td>\n",
       "    </tr>\n",
       "    <tr>\n",
       "      <th>6</th>\n",
       "      <td>\\S</td>\n",
       "      <td>Returns a match where the string DOES NOT cont...</td>\n",
       "      <td>\"\\S\"</td>\n",
       "      <td>Try it »</td>\n",
       "    </tr>\n",
       "    <tr>\n",
       "      <th>7</th>\n",
       "      <td>\\w</td>\n",
       "      <td>Returns a match where the string contains any ...</td>\n",
       "      <td>\"\\w\"</td>\n",
       "      <td>Try it »</td>\n",
       "    </tr>\n",
       "    <tr>\n",
       "      <th>8</th>\n",
       "      <td>\\W</td>\n",
       "      <td>Returns a match where the string DOES NOT cont...</td>\n",
       "      <td>\"\\W\"</td>\n",
       "      <td>Try it »</td>\n",
       "    </tr>\n",
       "    <tr>\n",
       "      <th>9</th>\n",
       "      <td>\\Z</td>\n",
       "      <td>Returns a match if the specified characters ar...</td>\n",
       "      <td>\"Spain\\Z\"</td>\n",
       "      <td>Try it »</td>\n",
       "    </tr>\n",
       "  </tbody>\n",
       "</table>\n",
       "</div>"
      ],
      "text/plain": [
       "  Character                                        Description  \\\n",
       "0        \\A  Returns a match if the specified characters ar...   \n",
       "1        \\b  Returns a match where the specified characters...   \n",
       "2        \\B  Returns a match where the specified characters...   \n",
       "3        \\d  Returns a match where the string contains digi...   \n",
       "4        \\D  Returns a match where the string DOES NOT cont...   \n",
       "5        \\s  Returns a match where the string contains a wh...   \n",
       "6        \\S  Returns a match where the string DOES NOT cont...   \n",
       "7        \\w  Returns a match where the string contains any ...   \n",
       "8        \\W  Returns a match where the string DOES NOT cont...   \n",
       "9        \\Z  Returns a match if the specified characters ar...   \n",
       "\n",
       "            Example             Try it  \n",
       "0           \"\\AThe\"           Try it »  \n",
       "1  r\"\\bain\"r\"ain\\b\"  Try it » Try it »  \n",
       "2  r\"\\Bain\"r\"ain\\B\"  Try it » Try it »  \n",
       "3              \"\\d\"           Try it »  \n",
       "4              \"\\D\"           Try it »  \n",
       "5              \"\\s\"           Try it »  \n",
       "6              \"\\S\"           Try it »  \n",
       "7              \"\\w\"           Try it »  \n",
       "8              \"\\W\"           Try it »  \n",
       "9         \"Spain\\Z\"           Try it »  "
      ]
     },
     "execution_count": 3,
     "metadata": {},
     "output_type": "execute_result"
    }
   ],
   "source": [
    "df[2]"
   ]
  },
  {
   "cell_type": "code",
   "execution_count": 4,
   "id": "a3f790c3",
   "metadata": {},
   "outputs": [
    {
     "data": {
      "text/html": [
       "<div>\n",
       "<style scoped>\n",
       "    .dataframe tbody tr th:only-of-type {\n",
       "        vertical-align: middle;\n",
       "    }\n",
       "\n",
       "    .dataframe tbody tr th {\n",
       "        vertical-align: top;\n",
       "    }\n",
       "\n",
       "    .dataframe thead th {\n",
       "        text-align: right;\n",
       "    }\n",
       "</style>\n",
       "<table border=\"1\" class=\"dataframe\">\n",
       "  <thead>\n",
       "    <tr style=\"text-align: right;\">\n",
       "      <th></th>\n",
       "      <th>Set</th>\n",
       "      <th>Description</th>\n",
       "      <th>Try it</th>\n",
       "    </tr>\n",
       "  </thead>\n",
       "  <tbody>\n",
       "    <tr>\n",
       "      <th>0</th>\n",
       "      <td>[arn]</td>\n",
       "      <td>Returns a match where one of the specified cha...</td>\n",
       "      <td>Try it »</td>\n",
       "    </tr>\n",
       "    <tr>\n",
       "      <th>1</th>\n",
       "      <td>[a-n]</td>\n",
       "      <td>Returns a match for any lower case character, ...</td>\n",
       "      <td>Try it »</td>\n",
       "    </tr>\n",
       "    <tr>\n",
       "      <th>2</th>\n",
       "      <td>[^arn]</td>\n",
       "      <td>Returns a match for any character EXCEPT a, r,...</td>\n",
       "      <td>Try it »</td>\n",
       "    </tr>\n",
       "    <tr>\n",
       "      <th>3</th>\n",
       "      <td>[0123]</td>\n",
       "      <td>Returns a match where any of the specified dig...</td>\n",
       "      <td>Try it »</td>\n",
       "    </tr>\n",
       "    <tr>\n",
       "      <th>4</th>\n",
       "      <td>[0-9]</td>\n",
       "      <td>Returns a match for any digit between 0 and 9</td>\n",
       "      <td>Try it »</td>\n",
       "    </tr>\n",
       "    <tr>\n",
       "      <th>5</th>\n",
       "      <td>[0-5][0-9]</td>\n",
       "      <td>Returns a match for any two-digit numbers from...</td>\n",
       "      <td>Try it »</td>\n",
       "    </tr>\n",
       "    <tr>\n",
       "      <th>6</th>\n",
       "      <td>[a-zA-Z]</td>\n",
       "      <td>Returns a match for any character alphabetical...</td>\n",
       "      <td>Try it »</td>\n",
       "    </tr>\n",
       "    <tr>\n",
       "      <th>7</th>\n",
       "      <td>[+]</td>\n",
       "      <td>In sets, +, *, ., |, (), $,{} has no special m...</td>\n",
       "      <td>Try it »</td>\n",
       "    </tr>\n",
       "  </tbody>\n",
       "</table>\n",
       "</div>"
      ],
      "text/plain": [
       "          Set                                        Description    Try it\n",
       "0       [arn]  Returns a match where one of the specified cha...  Try it »\n",
       "1       [a-n]  Returns a match for any lower case character, ...  Try it »\n",
       "2      [^arn]  Returns a match for any character EXCEPT a, r,...  Try it »\n",
       "3      [0123]  Returns a match where any of the specified dig...  Try it »\n",
       "4       [0-9]      Returns a match for any digit between 0 and 9  Try it »\n",
       "5  [0-5][0-9]  Returns a match for any two-digit numbers from...  Try it »\n",
       "6    [a-zA-Z]  Returns a match for any character alphabetical...  Try it »\n",
       "7         [+]  In sets, +, *, ., |, (), $,{} has no special m...  Try it »"
      ]
     },
     "execution_count": 4,
     "metadata": {},
     "output_type": "execute_result"
    }
   ],
   "source": [
    "df[3]"
   ]
  },
  {
   "cell_type": "code",
   "execution_count": null,
   "id": "d11e1781",
   "metadata": {},
   "outputs": [],
   "source": [
    "pattern = r'[a-z]'\n",
    "\n",
    "if re.search(pattern, 'YIGJUJ'):\n",
    "    print(\"The string contains a lowercase letter\")\n",
    "else:\n",
    "    print(\"The string does not contain a lowercase letter\")"
   ]
  },
  {
   "cell_type": "code",
   "execution_count": null,
   "id": "0b797cbb",
   "metadata": {},
   "outputs": [],
   "source": []
  }
 ],
 "metadata": {
  "kernelspec": {
   "display_name": "Python 3 (ipykernel)",
   "language": "python",
   "name": "python3"
  },
  "language_info": {
   "codemirror_mode": {
    "name": "ipython",
    "version": 3
   },
   "file_extension": ".py",
   "mimetype": "text/x-python",
   "name": "python",
   "nbconvert_exporter": "python",
   "pygments_lexer": "ipython3",
   "version": "3.9.12"
  }
 },
 "nbformat": 4,
 "nbformat_minor": 5
}
